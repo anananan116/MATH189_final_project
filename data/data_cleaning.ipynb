{
 "cells": [
  {
   "cell_type": "code",
   "execution_count": 2,
   "metadata": {},
   "outputs": [],
   "source": [
    "import pandas as pd\n",
    "import numpy as np\n",
    "import string\n",
    "import re\n",
    "\n",
    "np.random.seed(2024)"
   ]
  },
  {
   "cell_type": "code",
   "execution_count": 25,
   "metadata": {},
   "outputs": [],
   "source": [
    "train_data = pd.read_parquet('train.parquet')\n",
    "val_data = pd.read_parquet('validation.parquet')\n",
    "test_data = pd.read_parquet('test.parquet')"
   ]
  },
  {
   "cell_type": "code",
   "execution_count": 26,
   "metadata": {},
   "outputs": [],
   "source": [
    "def clean_text(text):\n",
    "    text = re.sub('@user', ' ', text)\n",
    "    text = ' '.join(text.split())\n",
    "    return text\n",
    "\n",
    "def clean_df(df):\n",
    "    df = df.dropna()\n",
    "    df = df[df['text'].apply(lambda x: len(x.split()) >= 10)]\n",
    "\n",
    "    df.loc[:, 'text'] = df['text'].apply(clean_text)\n",
    "    category_mapping = {0: 0, 1: 5, 2: 10}\n",
    "    df.loc[:, 'label'] = df['label'].map(category_mapping)\n",
    "    return df"
   ]
  },
  {
   "cell_type": "code",
   "execution_count": 27,
   "metadata": {},
   "outputs": [],
   "source": [
    "cleaned_train_data = clean_df(train_data)\n",
    "cleaned_val_data = clean_df(val_data)\n",
    "cleaned_test_data = clean_df(test_data)[:250]"
   ]
  },
  {
   "cell_type": "code",
   "execution_count": 28,
   "metadata": {},
   "outputs": [],
   "source": [
    "cleaned_train_data.to_csv('cleaned_train.csv', index=False)\n",
    "cleaned_val_data.to_csv('cleaned_val.csv', index=False)\n",
    "cleaned_test_data.to_csv('cleaned_test.csv', index=False)"
   ]
  },
  {
   "cell_type": "code",
   "execution_count": null,
   "metadata": {},
   "outputs": [],
   "source": []
  }
 ],
 "metadata": {
  "kernelspec": {
   "display_name": "Python 3",
   "language": "python",
   "name": "python3"
  },
  "language_info": {
   "codemirror_mode": {
    "name": "ipython",
    "version": 3
   },
   "file_extension": ".py",
   "mimetype": "text/x-python",
   "name": "python",
   "nbconvert_exporter": "python",
   "pygments_lexer": "ipython3",
   "version": "3.9.13"
  }
 },
 "nbformat": 4,
 "nbformat_minor": 2
}
